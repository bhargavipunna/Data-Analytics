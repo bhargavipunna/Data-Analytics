{
  "nbformat": 4,
  "nbformat_minor": 0,
  "metadata": {
    "colab": {
      "provenance": []
    },
    "kernelspec": {
      "name": "python3",
      "display_name": "Python 3"
    },
    "language_info": {
      "name": "python"
    }
  },
  "cells": [
    {
      "cell_type": "code",
      "execution_count": 1,
      "metadata": {
        "colab": {
          "base_uri": "https://localhost:8080/"
        },
        "id": "yblEIDMKl-UZ",
        "outputId": "6fa71ae8-81d2-431b-c602-2c1e31aa2135"
      },
      "outputs": [
        {
          "output_type": "stream",
          "name": "stdout",
          "text": [
            "                                review  sentiment\n",
            "0                 This car is amazing!      0.750\n",
            "1               Worst experience ever.     -1.000\n",
            "2             It's an average vehicle.     -0.150\n",
            "3                     I love this car!      0.625\n",
            "4  The engine performance is terrible.     -1.000\n"
          ]
        }
      ],
      "source": [
        "import pandas as pd\n",
        "from textblob import TextBlob\n",
        "\n",
        "# Load dataset (ensure the file has a 'review' column)\n",
        "data = pd.read_csv(\"cars_2010_2020.csv\")\n",
        "\n",
        "# Check if 'review' column exists; if not, create dummy reviews\n",
        "if 'review' not in data.columns:\n",
        "    # Create a list of reviews with the same length as the DataFrame\n",
        "    num_reviews = len(data)\n",
        "    reviews = [\"This car is amazing!\", \"Worst experience ever.\",\n",
        "              \"It's an average vehicle.\", \"I love this car!\",\n",
        "              \"The engine performance is terrible.\"]\n",
        "    # Extend the reviews list to match the DataFrame length\n",
        "    data['review'] = reviews * (num_reviews // len(reviews)) + reviews[:num_reviews % len(reviews)]\n",
        "else:\n",
        "    # If the review column exists, fill missing values with an empty string\n",
        "    data['review'] = data['review'].fillna(\"\")\n",
        "\n",
        "# Function to get sentiment polarity\n",
        "def get_sentiment(text):\n",
        "    return TextBlob(text).sentiment.polarity\n",
        "\n",
        "# Apply sentiment analysis\n",
        "data['sentiment'] = data['review'].apply(get_sentiment)\n",
        "\n",
        "# Print sample results\n",
        "print(data[['review', 'sentiment']].head())"
      ]
    }
  ]
}