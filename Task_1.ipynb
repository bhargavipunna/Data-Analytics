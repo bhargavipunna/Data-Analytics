{
  "nbformat": 4,
  "nbformat_minor": 0,
  "metadata": {
    "colab": {
      "provenance": []
    },
    "kernelspec": {
      "name": "python3",
      "display_name": "Python 3"
    },
    "language_info": {
      "name": "python"
    }
  },
  "cells": [
    {
      "cell_type": "code",
      "execution_count": 1,
      "metadata": {
        "colab": {
          "base_uri": "https://localhost:8080/"
        },
        "id": "k7pWAO6ymM7S",
        "outputId": "54675b1d-f249-461c-f41a-86d7cab87af5"
      },
      "outputs": [
        {
          "output_type": "stream",
          "name": "stdout",
          "text": [
            "root\n",
            " |-- Make: string (nullable = true)\n",
            " |-- Model: string (nullable = true)\n",
            " |-- Year: integer (nullable = true)\n",
            " |-- Engine Size (L): double (nullable = true)\n",
            " |-- Fuel Type: string (nullable = true)\n",
            " |-- Price (USD): double (nullable = true)\n",
            "\n",
            "+-------+----------+--------+----------------+------------------+---------+------------------+\n",
            "|summary|      Make|   Model|            Year|   Engine Size (L)|Fuel Type|       Price (USD)|\n",
            "+-------+----------+--------+----------------+------------------+---------+------------------+\n",
            "|  count|     10000|   10000|           10000|             10000|    10000|             10000|\n",
            "|   mean|      NULL|    NULL|       2014.9699|2.9922399999999874|     NULL| 47397.58498099996|\n",
            "| stddev|      NULL|    NULL|3.17430332674131| 1.150697263757626|     NULL|18643.431581204186|\n",
            "|    min|      Audi|3 Series|            2010|               1.0|   Diesel|          15010.25|\n",
            "|    max|Volkswagen|      X5|            2020|               5.0|   Petrol|          79998.87|\n",
            "+-------+----------+--------+----------------+------------------+---------+------------------+\n",
            "\n",
            "+-------------+-----+------------------+\n",
            "|         Make|count|           average|\n",
            "+-------------+-----+------------------+\n",
            "|   Volkswagen| 1029| 48047.99395529638|\n",
            "|    Chevrolet| 1025|47736.445746341364|\n",
            "|      Hyundai| 1011|46881.563639960485|\n",
            "|        Honda|  989| 47424.81467138527|\n",
            "|         Audi| 1019|46980.565289499486|\n",
            "|Mercedes-Benz|  973| 47984.36480986636|\n",
            "|          BMW|  986| 47351.47045638938|\n",
            "|       Toyota|  961| 46545.86112382935|\n",
            "|       Nissan| 1032|47943.220319767446|\n",
            "|         Ford|  975| 47021.22648205129|\n",
            "+-------------+-----+------------------+\n",
            "\n"
          ]
        }
      ],
      "source": [
        "from pyspark.sql import SparkSession\n",
        "from pyspark.sql.functions import col, count, mean\n",
        "\n",
        "# Initialize Spark session\n",
        "spark = SparkSession.builder.appName(\"BigDataAnalysis\").getOrCreate()\n",
        "\n",
        "# Load dataset\n",
        "df = spark.read.csv(\"cars_2010_2020.csv\", header=True, inferSchema=True)\n",
        "\n",
        "# Perform basic operations\n",
        "df.printSchema()\n",
        "df.describe().show()\n",
        "\n",
        "# Aggregation example\n",
        "df.groupBy(\"Make\").agg(count(\"Price (USD)\").alias(\"count\"), mean(\"Price (USD)\").alias(\"average\")).show()\n",
        "\n",
        "# Stop Spark session\n",
        "spark.stop()"
      ]
    }
  ]
}